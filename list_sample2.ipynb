{
  "nbformat": 4,
  "nbformat_minor": 0,
  "metadata": {
    "colab": {
      "name": "list_sample2.ipynb",
      "provenance": [],
      "collapsed_sections": [],
      "authorship_tag": "ABX9TyNQIoEvn5dIQLIqochRYbOi",
      "include_colab_link": true
    },
    "kernelspec": {
      "name": "python3",
      "display_name": "Python 3"
    }
  },
  "cells": [
    {
      "cell_type": "markdown",
      "metadata": {
        "id": "view-in-github",
        "colab_type": "text"
      },
      "source": [
        "<a href=\"https://colab.research.google.com/github/parikannappan/git_learn/blob/master/list_sample2.ipynb\" target=\"_parent\"><img src=\"https://colab.research.google.com/assets/colab-badge.svg\" alt=\"Open In Colab\"/></a>"
      ]
    },
    {
      "cell_type": "markdown",
      "metadata": {
        "id": "921mBjps23DA"
      },
      "source": [
        "Sample pytho program"
      ]
    },
    {
      "cell_type": "code",
      "metadata": {
        "id": "dM2AJO1k1zYu"
      },
      "source": [
        "li = [1,4,5,6,7]"
      ],
      "execution_count": 1,
      "outputs": []
    },
    {
      "cell_type": "code",
      "metadata": {
        "id": "1CYBQDMr2env",
        "outputId": "eebd126b-1653-473c-8e3c-43621aa7468c",
        "colab": {
          "base_uri": "https://localhost:8080/"
        }
      },
      "source": [
        "li[2]"
      ],
      "execution_count": 2,
      "outputs": [
        {
          "output_type": "execute_result",
          "data": {
            "text/plain": [
              "5"
            ]
          },
          "metadata": {
            "tags": []
          },
          "execution_count": 2
        }
      ]
    },
    {
      "cell_type": "code",
      "metadata": {
        "id": "uIf8DGy13ghJ",
        "outputId": "7b4177cd-5ff5-4196-dfea-4bc5ce36f165",
        "colab": {
          "base_uri": "https://localhost:8080/"
        }
      },
      "source": [
        "li[3]"
      ],
      "execution_count": 3,
      "outputs": [
        {
          "output_type": "execute_result",
          "data": {
            "text/plain": [
              "6"
            ]
          },
          "metadata": {
            "tags": []
          },
          "execution_count": 3
        }
      ]
    }
  ]
}